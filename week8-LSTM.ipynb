{
 "cells": [
  {
   "cell_type": "code",
   "execution_count": 25,
   "metadata": {},
   "outputs": [],
   "source": [
    "import numpy as np\n",
    "import pandas as pd\n",
    "\n",
    "import matplotlib.pyplot as plt\n",
    "%matplotlib inline \n",
    "\n",
    "from matplotlib import *\n",
    "import seaborn as sns"
   ]
  },
  {
   "cell_type": "code",
   "execution_count": 26,
   "metadata": {},
   "outputs": [],
   "source": [
    "import tensorflow as tf\n",
    "from tensorflow import keras"
   ]
  },
  {
   "cell_type": "code",
   "execution_count": 27,
   "metadata": {},
   "outputs": [],
   "source": [
    "from tensorflow.keras.callbacks import EarlyStopping\n",
    "from tensorflow.keras.callbacks import ModelCheckpoint"
   ]
  },
  {
   "cell_type": "code",
   "execution_count": 28,
   "metadata": {},
   "outputs": [],
   "source": [
    "np.random.seed(19)"
   ]
  },
  {
   "cell_type": "code",
   "execution_count": 29,
   "metadata": {},
   "outputs": [],
   "source": [
    "df_2023_Ask = pd.read_csv('XAGUSD_5 Mins_Ask_2023.01.01_2023.06.30 (1).csv')\n",
    "df_2023_Bid = pd.read_csv('XAGUSD_5 Mins_Bid_2023.01.01_2023.06.30 (1).csv')"
   ]
  },
  {
   "cell_type": "code",
   "execution_count": 30,
   "metadata": {},
   "outputs": [
    {
     "name": "stdout",
     "output_type": "stream",
     "text": [
      "            Time (UTC)    Open    High     Low   Close  Volume \n",
      "0  2023.01.02 23:00:00  24.102  24.125  24.083  24.125    0.351\n",
      "1  2023.01.02 23:05:00  24.094  24.188  24.094  24.141    1.155\n",
      "2  2023.01.02 23:10:00  24.143  24.148  24.022  24.027    0.882\n",
      "                Time (UTC)    Open    High     Low   Close  Volume \n",
      "35217  2023.06.30 20:45:00  22.781  22.781  22.776  22.776   0.4212\n",
      "35218  2023.06.30 20:50:00  22.776  22.797  22.774  22.786   0.6836\n",
      "35219  2023.06.30 20:55:00  22.786  22.811  22.786  22.811   0.3712\n"
     ]
    }
   ],
   "source": [
    "print(df_2023_Ask.head(3))\n",
    "print(df_2023_Ask.tail(3))"
   ]
  },
  {
   "cell_type": "code",
   "execution_count": 31,
   "metadata": {},
   "outputs": [
    {
     "name": "stdout",
     "output_type": "stream",
     "text": [
      "            Time (UTC)    Open    High     Low   Close  Volume \n",
      "0  2023.01.02 23:00:00  24.036  24.059  24.017  24.059   0.3480\n",
      "1  2023.01.02 23:05:00  24.064  24.130  24.064  24.092   1.8458\n",
      "2  2023.01.02 23:10:00  24.094  24.098  23.972  23.977   0.9030\n",
      "                Time (UTC)    Open    High     Low   Close  Volume \n",
      "35217  2023.06.30 20:45:00  22.751  22.751  22.746  22.746    0.069\n",
      "35218  2023.06.30 20:50:00  22.746  22.761  22.736  22.756    0.216\n",
      "35219  2023.06.30 20:55:00  22.756  22.766  22.701  22.745    0.327\n"
     ]
    }
   ],
   "source": [
    "print(df_2023_Bid.head(3))\n",
    "print(df_2023_Bid.tail(3))"
   ]
  },
  {
   "cell_type": "code",
   "execution_count": 32,
   "metadata": {},
   "outputs": [
    {
     "data": {
      "text/html": [
       "<div>\n",
       "<style scoped>\n",
       "    .dataframe tbody tr th:only-of-type {\n",
       "        vertical-align: middle;\n",
       "    }\n",
       "\n",
       "    .dataframe tbody tr th {\n",
       "        vertical-align: top;\n",
       "    }\n",
       "\n",
       "    .dataframe thead th {\n",
       "        text-align: right;\n",
       "    }\n",
       "</style>\n",
       "<table border=\"1\" class=\"dataframe\">\n",
       "  <thead>\n",
       "    <tr style=\"text-align: right;\">\n",
       "      <th></th>\n",
       "      <th>Time (UTC)</th>\n",
       "      <th>Open_x</th>\n",
       "      <th>High_x</th>\n",
       "      <th>Low_x</th>\n",
       "      <th>Close_x</th>\n",
       "      <th>Volume _x</th>\n",
       "      <th>Open_y</th>\n",
       "      <th>High_y</th>\n",
       "      <th>Low_y</th>\n",
       "      <th>Close_y</th>\n",
       "      <th>Volume _y</th>\n",
       "    </tr>\n",
       "  </thead>\n",
       "  <tbody>\n",
       "    <tr>\n",
       "      <th>0</th>\n",
       "      <td>2023.01.02 23:00:00</td>\n",
       "      <td>24.036</td>\n",
       "      <td>24.059</td>\n",
       "      <td>24.017</td>\n",
       "      <td>24.059</td>\n",
       "      <td>0.3480</td>\n",
       "      <td>24.102</td>\n",
       "      <td>24.125</td>\n",
       "      <td>24.083</td>\n",
       "      <td>24.125</td>\n",
       "      <td>0.3510</td>\n",
       "    </tr>\n",
       "    <tr>\n",
       "      <th>1</th>\n",
       "      <td>2023.01.02 23:05:00</td>\n",
       "      <td>24.064</td>\n",
       "      <td>24.130</td>\n",
       "      <td>24.064</td>\n",
       "      <td>24.092</td>\n",
       "      <td>1.8458</td>\n",
       "      <td>24.094</td>\n",
       "      <td>24.188</td>\n",
       "      <td>24.094</td>\n",
       "      <td>24.141</td>\n",
       "      <td>1.1550</td>\n",
       "    </tr>\n",
       "    <tr>\n",
       "      <th>2</th>\n",
       "      <td>2023.01.02 23:10:00</td>\n",
       "      <td>24.094</td>\n",
       "      <td>24.098</td>\n",
       "      <td>23.972</td>\n",
       "      <td>23.977</td>\n",
       "      <td>0.9030</td>\n",
       "      <td>24.143</td>\n",
       "      <td>24.148</td>\n",
       "      <td>24.022</td>\n",
       "      <td>24.027</td>\n",
       "      <td>0.8820</td>\n",
       "    </tr>\n",
       "    <tr>\n",
       "      <th>3</th>\n",
       "      <td>2023.01.02 23:15:00</td>\n",
       "      <td>23.977</td>\n",
       "      <td>23.980</td>\n",
       "      <td>23.938</td>\n",
       "      <td>23.980</td>\n",
       "      <td>0.8940</td>\n",
       "      <td>24.026</td>\n",
       "      <td>24.028</td>\n",
       "      <td>23.986</td>\n",
       "      <td>24.028</td>\n",
       "      <td>0.8940</td>\n",
       "    </tr>\n",
       "    <tr>\n",
       "      <th>4</th>\n",
       "      <td>2023.01.02 23:20:00</td>\n",
       "      <td>23.978</td>\n",
       "      <td>24.024</td>\n",
       "      <td>23.976</td>\n",
       "      <td>24.023</td>\n",
       "      <td>0.8880</td>\n",
       "      <td>24.026</td>\n",
       "      <td>24.073</td>\n",
       "      <td>24.023</td>\n",
       "      <td>24.073</td>\n",
       "      <td>0.9044</td>\n",
       "    </tr>\n",
       "    <tr>\n",
       "      <th>...</th>\n",
       "      <td>...</td>\n",
       "      <td>...</td>\n",
       "      <td>...</td>\n",
       "      <td>...</td>\n",
       "      <td>...</td>\n",
       "      <td>...</td>\n",
       "      <td>...</td>\n",
       "      <td>...</td>\n",
       "      <td>...</td>\n",
       "      <td>...</td>\n",
       "      <td>...</td>\n",
       "    </tr>\n",
       "    <tr>\n",
       "      <th>35215</th>\n",
       "      <td>2023.06.30 20:35:00</td>\n",
       "      <td>22.752</td>\n",
       "      <td>22.752</td>\n",
       "      <td>22.741</td>\n",
       "      <td>22.746</td>\n",
       "      <td>0.2752</td>\n",
       "      <td>22.782</td>\n",
       "      <td>22.782</td>\n",
       "      <td>22.771</td>\n",
       "      <td>22.776</td>\n",
       "      <td>1.8002</td>\n",
       "    </tr>\n",
       "    <tr>\n",
       "      <th>35216</th>\n",
       "      <td>2023.06.30 20:40:00</td>\n",
       "      <td>22.736</td>\n",
       "      <td>22.751</td>\n",
       "      <td>22.736</td>\n",
       "      <td>22.746</td>\n",
       "      <td>0.1410</td>\n",
       "      <td>22.775</td>\n",
       "      <td>22.781</td>\n",
       "      <td>22.775</td>\n",
       "      <td>22.776</td>\n",
       "      <td>0.7568</td>\n",
       "    </tr>\n",
       "    <tr>\n",
       "      <th>35217</th>\n",
       "      <td>2023.06.30 20:45:00</td>\n",
       "      <td>22.751</td>\n",
       "      <td>22.751</td>\n",
       "      <td>22.746</td>\n",
       "      <td>22.746</td>\n",
       "      <td>0.0690</td>\n",
       "      <td>22.781</td>\n",
       "      <td>22.781</td>\n",
       "      <td>22.776</td>\n",
       "      <td>22.776</td>\n",
       "      <td>0.4212</td>\n",
       "    </tr>\n",
       "    <tr>\n",
       "      <th>35218</th>\n",
       "      <td>2023.06.30 20:50:00</td>\n",
       "      <td>22.746</td>\n",
       "      <td>22.761</td>\n",
       "      <td>22.736</td>\n",
       "      <td>22.756</td>\n",
       "      <td>0.2160</td>\n",
       "      <td>22.776</td>\n",
       "      <td>22.797</td>\n",
       "      <td>22.774</td>\n",
       "      <td>22.786</td>\n",
       "      <td>0.6836</td>\n",
       "    </tr>\n",
       "    <tr>\n",
       "      <th>35219</th>\n",
       "      <td>2023.06.30 20:55:00</td>\n",
       "      <td>22.756</td>\n",
       "      <td>22.766</td>\n",
       "      <td>22.701</td>\n",
       "      <td>22.745</td>\n",
       "      <td>0.3270</td>\n",
       "      <td>22.786</td>\n",
       "      <td>22.811</td>\n",
       "      <td>22.786</td>\n",
       "      <td>22.811</td>\n",
       "      <td>0.3712</td>\n",
       "    </tr>\n",
       "  </tbody>\n",
       "</table>\n",
       "<p>35220 rows × 11 columns</p>\n",
       "</div>"
      ],
      "text/plain": [
       "                Time (UTC)  Open_x  High_x   Low_x  Close_x  Volume _x  \\\n",
       "0      2023.01.02 23:00:00  24.036  24.059  24.017   24.059     0.3480   \n",
       "1      2023.01.02 23:05:00  24.064  24.130  24.064   24.092     1.8458   \n",
       "2      2023.01.02 23:10:00  24.094  24.098  23.972   23.977     0.9030   \n",
       "3      2023.01.02 23:15:00  23.977  23.980  23.938   23.980     0.8940   \n",
       "4      2023.01.02 23:20:00  23.978  24.024  23.976   24.023     0.8880   \n",
       "...                    ...     ...     ...     ...      ...        ...   \n",
       "35215  2023.06.30 20:35:00  22.752  22.752  22.741   22.746     0.2752   \n",
       "35216  2023.06.30 20:40:00  22.736  22.751  22.736   22.746     0.1410   \n",
       "35217  2023.06.30 20:45:00  22.751  22.751  22.746   22.746     0.0690   \n",
       "35218  2023.06.30 20:50:00  22.746  22.761  22.736   22.756     0.2160   \n",
       "35219  2023.06.30 20:55:00  22.756  22.766  22.701   22.745     0.3270   \n",
       "\n",
       "       Open_y  High_y   Low_y  Close_y  Volume _y  \n",
       "0      24.102  24.125  24.083   24.125     0.3510  \n",
       "1      24.094  24.188  24.094   24.141     1.1550  \n",
       "2      24.143  24.148  24.022   24.027     0.8820  \n",
       "3      24.026  24.028  23.986   24.028     0.8940  \n",
       "4      24.026  24.073  24.023   24.073     0.9044  \n",
       "...       ...     ...     ...      ...        ...  \n",
       "35215  22.782  22.782  22.771   22.776     1.8002  \n",
       "35216  22.775  22.781  22.775   22.776     0.7568  \n",
       "35217  22.781  22.781  22.776   22.776     0.4212  \n",
       "35218  22.776  22.797  22.774   22.786     0.6836  \n",
       "35219  22.786  22.811  22.786   22.811     0.3712  \n",
       "\n",
       "[35220 rows x 11 columns]"
      ]
     },
     "execution_count": 32,
     "metadata": {},
     "output_type": "execute_result"
    }
   ],
   "source": [
    "df_2023 = df_2023_Bid.merge(df_2023_Ask, left_on='Time (UTC)', right_on='Time (UTC)', how='outer')\n",
    "\n",
    "df_2023"
   ]
  },
  {
   "cell_type": "code",
   "execution_count": 33,
   "metadata": {},
   "outputs": [],
   "source": [
    "# rename columns\n",
    "\n",
    "df_2023.columns = ['Local time', 'Open_Bid', 'High_Bid', 'Low_Bid', 'Close_Bid', 'Volume_Bid', \n",
    "                   'Open_Ask', 'High_Ask', 'Low_Ask', 'Close_Ask', 'Volume_Ask']"
   ]
  },
  {
   "cell_type": "code",
   "execution_count": 34,
   "metadata": {},
   "outputs": [
    {
     "data": {
      "text/html": [
       "<div>\n",
       "<style scoped>\n",
       "    .dataframe tbody tr th:only-of-type {\n",
       "        vertical-align: middle;\n",
       "    }\n",
       "\n",
       "    .dataframe tbody tr th {\n",
       "        vertical-align: top;\n",
       "    }\n",
       "\n",
       "    .dataframe thead th {\n",
       "        text-align: right;\n",
       "    }\n",
       "</style>\n",
       "<table border=\"1\" class=\"dataframe\">\n",
       "  <thead>\n",
       "    <tr style=\"text-align: right;\">\n",
       "      <th></th>\n",
       "      <th>Local time</th>\n",
       "      <th>Open_Bid</th>\n",
       "      <th>High_Bid</th>\n",
       "      <th>Low_Bid</th>\n",
       "      <th>Close_Bid</th>\n",
       "      <th>Volume_Bid</th>\n",
       "      <th>Open_Ask</th>\n",
       "      <th>High_Ask</th>\n",
       "      <th>Low_Ask</th>\n",
       "      <th>Close_Ask</th>\n",
       "      <th>Volume_Ask</th>\n",
       "    </tr>\n",
       "  </thead>\n",
       "  <tbody>\n",
       "    <tr>\n",
       "      <th>0</th>\n",
       "      <td>2023.01.02 23:00:00</td>\n",
       "      <td>24.036</td>\n",
       "      <td>24.059</td>\n",
       "      <td>24.017</td>\n",
       "      <td>24.059</td>\n",
       "      <td>0.3480</td>\n",
       "      <td>24.102</td>\n",
       "      <td>24.125</td>\n",
       "      <td>24.083</td>\n",
       "      <td>24.125</td>\n",
       "      <td>0.351</td>\n",
       "    </tr>\n",
       "    <tr>\n",
       "      <th>1</th>\n",
       "      <td>2023.01.02 23:05:00</td>\n",
       "      <td>24.064</td>\n",
       "      <td>24.130</td>\n",
       "      <td>24.064</td>\n",
       "      <td>24.092</td>\n",
       "      <td>1.8458</td>\n",
       "      <td>24.094</td>\n",
       "      <td>24.188</td>\n",
       "      <td>24.094</td>\n",
       "      <td>24.141</td>\n",
       "      <td>1.155</td>\n",
       "    </tr>\n",
       "    <tr>\n",
       "      <th>2</th>\n",
       "      <td>2023.01.02 23:10:00</td>\n",
       "      <td>24.094</td>\n",
       "      <td>24.098</td>\n",
       "      <td>23.972</td>\n",
       "      <td>23.977</td>\n",
       "      <td>0.9030</td>\n",
       "      <td>24.143</td>\n",
       "      <td>24.148</td>\n",
       "      <td>24.022</td>\n",
       "      <td>24.027</td>\n",
       "      <td>0.882</td>\n",
       "    </tr>\n",
       "  </tbody>\n",
       "</table>\n",
       "</div>"
      ],
      "text/plain": [
       "            Local time  Open_Bid  High_Bid  Low_Bid  Close_Bid  Volume_Bid  \\\n",
       "0  2023.01.02 23:00:00    24.036    24.059   24.017     24.059      0.3480   \n",
       "1  2023.01.02 23:05:00    24.064    24.130   24.064     24.092      1.8458   \n",
       "2  2023.01.02 23:10:00    24.094    24.098   23.972     23.977      0.9030   \n",
       "\n",
       "   Open_Ask  High_Ask  Low_Ask  Close_Ask  Volume_Ask  \n",
       "0    24.102    24.125   24.083     24.125       0.351  \n",
       "1    24.094    24.188   24.094     24.141       1.155  \n",
       "2    24.143    24.148   24.022     24.027       0.882  "
      ]
     },
     "execution_count": 34,
     "metadata": {},
     "output_type": "execute_result"
    }
   ],
   "source": [
    "df_2023.head(3)"
   ]
  },
  {
   "cell_type": "code",
   "execution_count": 35,
   "metadata": {},
   "outputs": [],
   "source": [
    "df_2023[\"Volume_Delta\"] = df_2023[\"Volume_Ask\"] - df_2023[\"Volume_Bid\"]\n",
    "df_2023[\"Volume_Delta_abs\"] = (df_2023[\"Volume_Ask\"] - df_2023[\"Volume_Bid\"]).abs()\n",
    "df_2023[\"Open_Delta\"] = df_2023[\"Open_Ask\"]  - df_2023[\"Open_Bid\"]\n",
    "df_2023[\"High_Delta\"] = df_2023[\"High_Ask\"]  - df_2023[\"High_Bid\"]\n",
    "df_2023[\"Low_Delta\"]  = df_2023[\"Low_Ask\"]   - df_2023[\"Low_Bid\"]\n",
    "df_2023[\"Close_Delta\"]= df_2023[\"Close_Ask\"] - df_2023[\"Close_Bid\"]"
   ]
  },
  {
   "cell_type": "code",
   "execution_count": 36,
   "metadata": {},
   "outputs": [
    {
     "data": {
      "text/plain": [
       "35220"
      ]
     },
     "execution_count": 36,
     "metadata": {},
     "output_type": "execute_result"
    }
   ],
   "source": [
    "n = df_2023.shape[0]\n",
    "n"
   ]
  },
  {
   "cell_type": "code",
   "execution_count": 37,
   "metadata": {},
   "outputs": [
    {
     "data": {
      "text/plain": [
       "17"
      ]
     },
     "execution_count": 37,
     "metadata": {},
     "output_type": "execute_result"
    }
   ],
   "source": [
    "p = df_2023.shape[1]\n",
    "p"
   ]
  },
  {
   "cell_type": "code",
   "execution_count": 38,
   "metadata": {},
   "outputs": [],
   "source": [
    "df_2023['Y_High_Bid'] = df_2023['High_Bid']\n",
    "df_2023['Y_Low_Ask'] = df_2023['Low_Bid'] + df_2023['Low_Delta']"
   ]
  },
  {
   "cell_type": "code",
   "execution_count": 39,
   "metadata": {},
   "outputs": [],
   "source": [
    "data_ax = df_2023.drop(['Y_High_Bid', 'Y_Low_Ask'], axis=1)"
   ]
  },
  {
   "cell_type": "code",
   "execution_count": 40,
   "metadata": {},
   "outputs": [],
   "source": [
    "data_ay = df_2023[['Y_High_Bid', 'Y_Low_Ask']]"
   ]
  },
  {
   "cell_type": "code",
   "execution_count": 41,
   "metadata": {},
   "outputs": [
    {
     "data": {
      "text/plain": [
       "(35220, 17)"
      ]
     },
     "execution_count": 41,
     "metadata": {},
     "output_type": "execute_result"
    }
   ],
   "source": [
    "data_ax.shape"
   ]
  },
  {
   "cell_type": "code",
   "execution_count": 42,
   "metadata": {},
   "outputs": [
    {
     "data": {
      "text/plain": [
       "(35220, 2)"
      ]
     },
     "execution_count": 42,
     "metadata": {},
     "output_type": "execute_result"
    }
   ],
   "source": [
    "data_ay.shape"
   ]
  },
  {
   "cell_type": "code",
   "execution_count": 43,
   "metadata": {},
   "outputs": [],
   "source": [
    "data_ay = data_ay.shift(-1)"
   ]
  },
  {
   "cell_type": "code",
   "execution_count": 44,
   "metadata": {},
   "outputs": [
    {
     "data": {
      "text/plain": [
       "<bound method NDFrame.tail of        Y_High_Bid  Y_Low_Ask\n",
       "0          24.130     24.094\n",
       "1          24.098     24.022\n",
       "2          23.980     23.986\n",
       "3          24.024     24.023\n",
       "4          24.061     24.073\n",
       "...           ...        ...\n",
       "35215      22.751     22.775\n",
       "35216      22.751     22.776\n",
       "35217      22.761     22.774\n",
       "35218      22.766     22.786\n",
       "35219         NaN        NaN\n",
       "\n",
       "[35220 rows x 2 columns]>"
      ]
     },
     "execution_count": 44,
     "metadata": {},
     "output_type": "execute_result"
    }
   ],
   "source": [
    "data_ay.tail"
   ]
  },
  {
   "cell_type": "code",
   "execution_count": 45,
   "metadata": {},
   "outputs": [],
   "source": [
    "# create new colomns: MIN_Lowest(Low_Ask) and MAX_Highest(High_Bid) prices of DURING NEXT 5 minutes\n",
    "\n",
    "# Forward-looking window\n",
    "indexer = pd.api.indexers.FixedForwardWindowIndexer(window_size=5)\n",
    "\n",
    "data_ay['Y_High_Bid_5'] = data_ay['Y_High_Bid'].rolling(window=indexer).max()\n",
    "data_ay['Y_Low_Ask_5']  = data_ay['Y_Low_Ask'].rolling(window=indexer).min()"
   ]
  },
  {
   "cell_type": "code",
   "execution_count": 46,
   "metadata": {},
   "outputs": [
    {
     "data": {
      "text/html": [
       "<div>\n",
       "<style scoped>\n",
       "    .dataframe tbody tr th:only-of-type {\n",
       "        vertical-align: middle;\n",
       "    }\n",
       "\n",
       "    .dataframe tbody tr th {\n",
       "        vertical-align: top;\n",
       "    }\n",
       "\n",
       "    .dataframe thead th {\n",
       "        text-align: right;\n",
       "    }\n",
       "</style>\n",
       "<table border=\"1\" class=\"dataframe\">\n",
       "  <thead>\n",
       "    <tr style=\"text-align: right;\">\n",
       "      <th></th>\n",
       "      <th>Y_High_Bid</th>\n",
       "      <th>Y_Low_Ask</th>\n",
       "      <th>Y_High_Bid_5</th>\n",
       "      <th>Y_Low_Ask_5</th>\n",
       "    </tr>\n",
       "  </thead>\n",
       "  <tbody>\n",
       "    <tr>\n",
       "      <th>0</th>\n",
       "      <td>24.130</td>\n",
       "      <td>24.094</td>\n",
       "      <td>24.130</td>\n",
       "      <td>23.986</td>\n",
       "    </tr>\n",
       "    <tr>\n",
       "      <th>1</th>\n",
       "      <td>24.098</td>\n",
       "      <td>24.022</td>\n",
       "      <td>24.101</td>\n",
       "      <td>23.986</td>\n",
       "    </tr>\n",
       "    <tr>\n",
       "      <th>2</th>\n",
       "      <td>23.980</td>\n",
       "      <td>23.986</td>\n",
       "      <td>24.101</td>\n",
       "      <td>23.986</td>\n",
       "    </tr>\n",
       "    <tr>\n",
       "      <th>3</th>\n",
       "      <td>24.024</td>\n",
       "      <td>24.023</td>\n",
       "      <td>24.101</td>\n",
       "      <td>24.023</td>\n",
       "    </tr>\n",
       "    <tr>\n",
       "      <th>4</th>\n",
       "      <td>24.061</td>\n",
       "      <td>24.073</td>\n",
       "      <td>24.101</td>\n",
       "      <td>24.062</td>\n",
       "    </tr>\n",
       "    <tr>\n",
       "      <th>5</th>\n",
       "      <td>24.101</td>\n",
       "      <td>24.090</td>\n",
       "      <td>24.101</td>\n",
       "      <td>24.062</td>\n",
       "    </tr>\n",
       "  </tbody>\n",
       "</table>\n",
       "</div>"
      ],
      "text/plain": [
       "   Y_High_Bid  Y_Low_Ask  Y_High_Bid_5  Y_Low_Ask_5\n",
       "0      24.130     24.094        24.130       23.986\n",
       "1      24.098     24.022        24.101       23.986\n",
       "2      23.980     23.986        24.101       23.986\n",
       "3      24.024     24.023        24.101       24.023\n",
       "4      24.061     24.073        24.101       24.062\n",
       "5      24.101     24.090        24.101       24.062"
      ]
     },
     "execution_count": 46,
     "metadata": {},
     "output_type": "execute_result"
    }
   ],
   "source": [
    "data_ay.head(6)"
   ]
  },
  {
   "cell_type": "code",
   "execution_count": 47,
   "metadata": {},
   "outputs": [],
   "source": [
    "data_ay = data_ay.drop(['Y_High_Bid', 'Y_Low_Ask'], axis=1)"
   ]
  },
  {
   "cell_type": "code",
   "execution_count": 48,
   "metadata": {},
   "outputs": [
    {
     "data": {
      "text/html": [
       "<div>\n",
       "<style scoped>\n",
       "    .dataframe tbody tr th:only-of-type {\n",
       "        vertical-align: middle;\n",
       "    }\n",
       "\n",
       "    .dataframe tbody tr th {\n",
       "        vertical-align: top;\n",
       "    }\n",
       "\n",
       "    .dataframe thead th {\n",
       "        text-align: right;\n",
       "    }\n",
       "</style>\n",
       "<table border=\"1\" class=\"dataframe\">\n",
       "  <thead>\n",
       "    <tr style=\"text-align: right;\">\n",
       "      <th></th>\n",
       "      <th>Y_High_Bid_5</th>\n",
       "      <th>Y_Low_Ask_5</th>\n",
       "    </tr>\n",
       "  </thead>\n",
       "  <tbody>\n",
       "    <tr>\n",
       "      <th>0</th>\n",
       "      <td>24.130</td>\n",
       "      <td>23.986</td>\n",
       "    </tr>\n",
       "    <tr>\n",
       "      <th>1</th>\n",
       "      <td>24.101</td>\n",
       "      <td>23.986</td>\n",
       "    </tr>\n",
       "    <tr>\n",
       "      <th>2</th>\n",
       "      <td>24.101</td>\n",
       "      <td>23.986</td>\n",
       "    </tr>\n",
       "    <tr>\n",
       "      <th>3</th>\n",
       "      <td>24.101</td>\n",
       "      <td>24.023</td>\n",
       "    </tr>\n",
       "    <tr>\n",
       "      <th>4</th>\n",
       "      <td>24.101</td>\n",
       "      <td>24.062</td>\n",
       "    </tr>\n",
       "    <tr>\n",
       "      <th>...</th>\n",
       "      <td>...</td>\n",
       "      <td>...</td>\n",
       "    </tr>\n",
       "    <tr>\n",
       "      <th>35215</th>\n",
       "      <td>NaN</td>\n",
       "      <td>NaN</td>\n",
       "    </tr>\n",
       "    <tr>\n",
       "      <th>35216</th>\n",
       "      <td>NaN</td>\n",
       "      <td>NaN</td>\n",
       "    </tr>\n",
       "    <tr>\n",
       "      <th>35217</th>\n",
       "      <td>NaN</td>\n",
       "      <td>NaN</td>\n",
       "    </tr>\n",
       "    <tr>\n",
       "      <th>35218</th>\n",
       "      <td>NaN</td>\n",
       "      <td>NaN</td>\n",
       "    </tr>\n",
       "    <tr>\n",
       "      <th>35219</th>\n",
       "      <td>NaN</td>\n",
       "      <td>NaN</td>\n",
       "    </tr>\n",
       "  </tbody>\n",
       "</table>\n",
       "<p>35220 rows × 2 columns</p>\n",
       "</div>"
      ],
      "text/plain": [
       "       Y_High_Bid_5  Y_Low_Ask_5\n",
       "0            24.130       23.986\n",
       "1            24.101       23.986\n",
       "2            24.101       23.986\n",
       "3            24.101       24.023\n",
       "4            24.101       24.062\n",
       "...             ...          ...\n",
       "35215           NaN          NaN\n",
       "35216           NaN          NaN\n",
       "35217           NaN          NaN\n",
       "35218           NaN          NaN\n",
       "35219           NaN          NaN\n",
       "\n",
       "[35220 rows x 2 columns]"
      ]
     },
     "execution_count": 48,
     "metadata": {},
     "output_type": "execute_result"
    }
   ],
   "source": [
    "data_ay"
   ]
  },
  {
   "cell_type": "code",
   "execution_count": 49,
   "metadata": {},
   "outputs": [],
   "source": [
    "# delete the 5 last rows in data_ay (because we don't have answers for the last 5 minutes)\n",
    "\n",
    "for i in range(5):\n",
    "        data_ay.drop(data_ay.shape[0]-1, axis=0, inplace=True)\n"
   ]
  },
  {
   "cell_type": "code",
   "execution_count": 50,
   "metadata": {},
   "outputs": [],
   "source": [
    "# delete the last 5 rows in data_ax (because we don't have answers for the last 5 minutes)\n",
    "\n",
    "for i in range(5):\n",
    "    data_ax.drop(data_ax.shape[0]-1, axis=0, inplace=True)"
   ]
  },
  {
   "cell_type": "code",
   "execution_count": 51,
   "metadata": {},
   "outputs": [
    {
     "data": {
      "text/plain": [
       "(35215, 2)"
      ]
     },
     "execution_count": 51,
     "metadata": {},
     "output_type": "execute_result"
    }
   ],
   "source": [
    "data_ay.shape"
   ]
  },
  {
   "cell_type": "code",
   "execution_count": 52,
   "metadata": {},
   "outputs": [
    {
     "data": {
      "text/plain": [
       "(35215, 17)"
      ]
     },
     "execution_count": 52,
     "metadata": {},
     "output_type": "execute_result"
    }
   ],
   "source": [
    "data_ax.shape"
   ]
  },
  {
   "cell_type": "code",
   "execution_count": 53,
   "metadata": {},
   "outputs": [],
   "source": [
    "data_ax = data_ax.drop(['Local time'], axis=1)"
   ]
  },
  {
   "cell_type": "code",
   "execution_count": 54,
   "metadata": {},
   "outputs": [
    {
     "data": {
      "text/html": [
       "<div>\n",
       "<style scoped>\n",
       "    .dataframe tbody tr th:only-of-type {\n",
       "        vertical-align: middle;\n",
       "    }\n",
       "\n",
       "    .dataframe tbody tr th {\n",
       "        vertical-align: top;\n",
       "    }\n",
       "\n",
       "    .dataframe thead th {\n",
       "        text-align: right;\n",
       "    }\n",
       "</style>\n",
       "<table border=\"1\" class=\"dataframe\">\n",
       "  <thead>\n",
       "    <tr style=\"text-align: right;\">\n",
       "      <th></th>\n",
       "      <th>Open_Bid</th>\n",
       "      <th>High_Bid</th>\n",
       "      <th>Low_Bid</th>\n",
       "      <th>Close_Bid</th>\n",
       "      <th>Volume_Bid</th>\n",
       "      <th>Open_Ask</th>\n",
       "      <th>High_Ask</th>\n",
       "      <th>Low_Ask</th>\n",
       "      <th>Close_Ask</th>\n",
       "      <th>Volume_Ask</th>\n",
       "      <th>Volume_Delta</th>\n",
       "      <th>Volume_Delta_abs</th>\n",
       "      <th>Open_Delta</th>\n",
       "      <th>High_Delta</th>\n",
       "      <th>Low_Delta</th>\n",
       "      <th>Close_Delta</th>\n",
       "    </tr>\n",
       "  </thead>\n",
       "  <tbody>\n",
       "    <tr>\n",
       "      <th>0</th>\n",
       "      <td>24.036</td>\n",
       "      <td>24.059</td>\n",
       "      <td>24.017</td>\n",
       "      <td>24.059</td>\n",
       "      <td>0.3480</td>\n",
       "      <td>24.102</td>\n",
       "      <td>24.125</td>\n",
       "      <td>24.083</td>\n",
       "      <td>24.125</td>\n",
       "      <td>0.3510</td>\n",
       "      <td>0.0030</td>\n",
       "      <td>0.0030</td>\n",
       "      <td>0.066</td>\n",
       "      <td>0.066</td>\n",
       "      <td>0.066</td>\n",
       "      <td>0.066</td>\n",
       "    </tr>\n",
       "    <tr>\n",
       "      <th>1</th>\n",
       "      <td>24.064</td>\n",
       "      <td>24.130</td>\n",
       "      <td>24.064</td>\n",
       "      <td>24.092</td>\n",
       "      <td>1.8458</td>\n",
       "      <td>24.094</td>\n",
       "      <td>24.188</td>\n",
       "      <td>24.094</td>\n",
       "      <td>24.141</td>\n",
       "      <td>1.1550</td>\n",
       "      <td>-0.6908</td>\n",
       "      <td>0.6908</td>\n",
       "      <td>0.030</td>\n",
       "      <td>0.058</td>\n",
       "      <td>0.030</td>\n",
       "      <td>0.049</td>\n",
       "    </tr>\n",
       "    <tr>\n",
       "      <th>2</th>\n",
       "      <td>24.094</td>\n",
       "      <td>24.098</td>\n",
       "      <td>23.972</td>\n",
       "      <td>23.977</td>\n",
       "      <td>0.9030</td>\n",
       "      <td>24.143</td>\n",
       "      <td>24.148</td>\n",
       "      <td>24.022</td>\n",
       "      <td>24.027</td>\n",
       "      <td>0.8820</td>\n",
       "      <td>-0.0210</td>\n",
       "      <td>0.0210</td>\n",
       "      <td>0.049</td>\n",
       "      <td>0.050</td>\n",
       "      <td>0.050</td>\n",
       "      <td>0.050</td>\n",
       "    </tr>\n",
       "    <tr>\n",
       "      <th>3</th>\n",
       "      <td>23.977</td>\n",
       "      <td>23.980</td>\n",
       "      <td>23.938</td>\n",
       "      <td>23.980</td>\n",
       "      <td>0.8940</td>\n",
       "      <td>24.026</td>\n",
       "      <td>24.028</td>\n",
       "      <td>23.986</td>\n",
       "      <td>24.028</td>\n",
       "      <td>0.8940</td>\n",
       "      <td>0.0000</td>\n",
       "      <td>0.0000</td>\n",
       "      <td>0.049</td>\n",
       "      <td>0.048</td>\n",
       "      <td>0.048</td>\n",
       "      <td>0.048</td>\n",
       "    </tr>\n",
       "    <tr>\n",
       "      <th>4</th>\n",
       "      <td>23.978</td>\n",
       "      <td>24.024</td>\n",
       "      <td>23.976</td>\n",
       "      <td>24.023</td>\n",
       "      <td>0.8880</td>\n",
       "      <td>24.026</td>\n",
       "      <td>24.073</td>\n",
       "      <td>24.023</td>\n",
       "      <td>24.073</td>\n",
       "      <td>0.9044</td>\n",
       "      <td>0.0164</td>\n",
       "      <td>0.0164</td>\n",
       "      <td>0.048</td>\n",
       "      <td>0.049</td>\n",
       "      <td>0.047</td>\n",
       "      <td>0.050</td>\n",
       "    </tr>\n",
       "    <tr>\n",
       "      <th>...</th>\n",
       "      <td>...</td>\n",
       "      <td>...</td>\n",
       "      <td>...</td>\n",
       "      <td>...</td>\n",
       "      <td>...</td>\n",
       "      <td>...</td>\n",
       "      <td>...</td>\n",
       "      <td>...</td>\n",
       "      <td>...</td>\n",
       "      <td>...</td>\n",
       "      <td>...</td>\n",
       "      <td>...</td>\n",
       "      <td>...</td>\n",
       "      <td>...</td>\n",
       "      <td>...</td>\n",
       "      <td>...</td>\n",
       "    </tr>\n",
       "    <tr>\n",
       "      <th>35210</th>\n",
       "      <td>22.758</td>\n",
       "      <td>22.760</td>\n",
       "      <td>22.742</td>\n",
       "      <td>22.743</td>\n",
       "      <td>3.7139</td>\n",
       "      <td>22.788</td>\n",
       "      <td>22.790</td>\n",
       "      <td>22.772</td>\n",
       "      <td>22.773</td>\n",
       "      <td>6.3546</td>\n",
       "      <td>2.6407</td>\n",
       "      <td>2.6407</td>\n",
       "      <td>0.030</td>\n",
       "      <td>0.030</td>\n",
       "      <td>0.030</td>\n",
       "      <td>0.030</td>\n",
       "    </tr>\n",
       "    <tr>\n",
       "      <th>35211</th>\n",
       "      <td>22.746</td>\n",
       "      <td>22.753</td>\n",
       "      <td>22.738</td>\n",
       "      <td>22.748</td>\n",
       "      <td>1.0326</td>\n",
       "      <td>22.776</td>\n",
       "      <td>22.783</td>\n",
       "      <td>22.768</td>\n",
       "      <td>22.778</td>\n",
       "      <td>2.3477</td>\n",
       "      <td>1.3151</td>\n",
       "      <td>1.3151</td>\n",
       "      <td>0.030</td>\n",
       "      <td>0.030</td>\n",
       "      <td>0.030</td>\n",
       "      <td>0.030</td>\n",
       "    </tr>\n",
       "    <tr>\n",
       "      <th>35212</th>\n",
       "      <td>22.742</td>\n",
       "      <td>22.753</td>\n",
       "      <td>22.738</td>\n",
       "      <td>22.748</td>\n",
       "      <td>1.7904</td>\n",
       "      <td>22.772</td>\n",
       "      <td>22.783</td>\n",
       "      <td>22.768</td>\n",
       "      <td>22.778</td>\n",
       "      <td>4.5415</td>\n",
       "      <td>2.7511</td>\n",
       "      <td>2.7511</td>\n",
       "      <td>0.030</td>\n",
       "      <td>0.030</td>\n",
       "      <td>0.030</td>\n",
       "      <td>0.030</td>\n",
       "    </tr>\n",
       "    <tr>\n",
       "      <th>35213</th>\n",
       "      <td>22.733</td>\n",
       "      <td>22.747</td>\n",
       "      <td>22.728</td>\n",
       "      <td>22.742</td>\n",
       "      <td>1.9267</td>\n",
       "      <td>22.763</td>\n",
       "      <td>22.777</td>\n",
       "      <td>22.758</td>\n",
       "      <td>22.772</td>\n",
       "      <td>3.4873</td>\n",
       "      <td>1.5606</td>\n",
       "      <td>1.5606</td>\n",
       "      <td>0.030</td>\n",
       "      <td>0.030</td>\n",
       "      <td>0.030</td>\n",
       "      <td>0.030</td>\n",
       "    </tr>\n",
       "    <tr>\n",
       "      <th>35214</th>\n",
       "      <td>22.742</td>\n",
       "      <td>22.752</td>\n",
       "      <td>22.739</td>\n",
       "      <td>22.752</td>\n",
       "      <td>0.3622</td>\n",
       "      <td>22.772</td>\n",
       "      <td>22.782</td>\n",
       "      <td>22.769</td>\n",
       "      <td>22.782</td>\n",
       "      <td>1.4552</td>\n",
       "      <td>1.0930</td>\n",
       "      <td>1.0930</td>\n",
       "      <td>0.030</td>\n",
       "      <td>0.030</td>\n",
       "      <td>0.030</td>\n",
       "      <td>0.030</td>\n",
       "    </tr>\n",
       "  </tbody>\n",
       "</table>\n",
       "<p>35215 rows × 16 columns</p>\n",
       "</div>"
      ],
      "text/plain": [
       "       Open_Bid  High_Bid  Low_Bid  Close_Bid  Volume_Bid  Open_Ask  High_Ask  \\\n",
       "0        24.036    24.059   24.017     24.059      0.3480    24.102    24.125   \n",
       "1        24.064    24.130   24.064     24.092      1.8458    24.094    24.188   \n",
       "2        24.094    24.098   23.972     23.977      0.9030    24.143    24.148   \n",
       "3        23.977    23.980   23.938     23.980      0.8940    24.026    24.028   \n",
       "4        23.978    24.024   23.976     24.023      0.8880    24.026    24.073   \n",
       "...         ...       ...      ...        ...         ...       ...       ...   \n",
       "35210    22.758    22.760   22.742     22.743      3.7139    22.788    22.790   \n",
       "35211    22.746    22.753   22.738     22.748      1.0326    22.776    22.783   \n",
       "35212    22.742    22.753   22.738     22.748      1.7904    22.772    22.783   \n",
       "35213    22.733    22.747   22.728     22.742      1.9267    22.763    22.777   \n",
       "35214    22.742    22.752   22.739     22.752      0.3622    22.772    22.782   \n",
       "\n",
       "       Low_Ask  Close_Ask  Volume_Ask  Volume_Delta  Volume_Delta_abs  \\\n",
       "0       24.083     24.125      0.3510        0.0030            0.0030   \n",
       "1       24.094     24.141      1.1550       -0.6908            0.6908   \n",
       "2       24.022     24.027      0.8820       -0.0210            0.0210   \n",
       "3       23.986     24.028      0.8940        0.0000            0.0000   \n",
       "4       24.023     24.073      0.9044        0.0164            0.0164   \n",
       "...        ...        ...         ...           ...               ...   \n",
       "35210   22.772     22.773      6.3546        2.6407            2.6407   \n",
       "35211   22.768     22.778      2.3477        1.3151            1.3151   \n",
       "35212   22.768     22.778      4.5415        2.7511            2.7511   \n",
       "35213   22.758     22.772      3.4873        1.5606            1.5606   \n",
       "35214   22.769     22.782      1.4552        1.0930            1.0930   \n",
       "\n",
       "       Open_Delta  High_Delta  Low_Delta  Close_Delta  \n",
       "0           0.066       0.066      0.066        0.066  \n",
       "1           0.030       0.058      0.030        0.049  \n",
       "2           0.049       0.050      0.050        0.050  \n",
       "3           0.049       0.048      0.048        0.048  \n",
       "4           0.048       0.049      0.047        0.050  \n",
       "...           ...         ...        ...          ...  \n",
       "35210       0.030       0.030      0.030        0.030  \n",
       "35211       0.030       0.030      0.030        0.030  \n",
       "35212       0.030       0.030      0.030        0.030  \n",
       "35213       0.030       0.030      0.030        0.030  \n",
       "35214       0.030       0.030      0.030        0.030  \n",
       "\n",
       "[35215 rows x 16 columns]"
      ]
     },
     "execution_count": 54,
     "metadata": {},
     "output_type": "execute_result"
    }
   ],
   "source": [
    "data_ax"
   ]
  },
  {
   "cell_type": "code",
   "execution_count": 55,
   "metadata": {},
   "outputs": [
    {
     "name": "stdout",
     "output_type": "stream",
     "text": [
      "data_a:\n",
      "[[ 2.4036e+01  2.4059e+01  2.4017e+01  2.4059e+01  3.4800e-01  2.4102e+01\n",
      "   2.4125e+01  2.4083e+01  2.4125e+01  3.5100e-01  3.0000e-03  3.0000e-03\n",
      "   6.6000e-02  6.6000e-02  6.6000e-02  6.6000e-02]\n",
      " [ 2.4064e+01  2.4130e+01  2.4064e+01  2.4092e+01  1.8458e+00  2.4094e+01\n",
      "   2.4188e+01  2.4094e+01  2.4141e+01  1.1550e+00 -6.9080e-01  6.9080e-01\n",
      "   3.0000e-02  5.8000e-02  3.0000e-02  4.9000e-02]]\n",
      "\n",
      "\n",
      "[[22.733  22.747  22.728  22.742   1.9267 22.763  22.777  22.758  22.772\n",
      "   3.4873  1.5606  1.5606  0.03    0.03    0.03    0.03  ]\n",
      " [22.742  22.752  22.739  22.752   0.3622 22.772  22.782  22.769  22.782\n",
      "   1.4552  1.093   1.093   0.03    0.03    0.03    0.03  ]]\n",
      "numpy size: =  (35215, 16)\n",
      "type:  float64\n"
     ]
    }
   ],
   "source": [
    "# Create inputs Numpy\n",
    "\n",
    "data_a = np.array(data_ax) \n",
    "\n",
    "with np.printoptions(precision=4):\n",
    "    print(\"data_a:\")\n",
    "    print(data_a[:2,:])  \n",
    "    print('\\n')\n",
    "    print(data_a[-2:,:]) \n",
    "\n",
    "print(\"numpy size: = \", data_a.shape)\n",
    "print(\"type: \", data_a.dtype) \n"
   ]
  },
  {
   "cell_type": "code",
   "execution_count": 56,
   "metadata": {},
   "outputs": [
    {
     "name": "stdout",
     "output_type": "stream",
     "text": [
      "data_a:\n",
      "[[24.13  23.986]\n",
      " [24.101 23.986]\n",
      " [24.101 23.986]]\n",
      "\n",
      "\n",
      "[[22.752 22.758]\n",
      " [22.761 22.769]\n",
      " [22.766 22.771]]\n",
      "numpy size: =  (35215, 2)\n",
      "type:  float64\n"
     ]
    }
   ],
   "source": [
    "# Create outputs Numpy\n",
    "\n",
    "data_y = np.array(data_ay) \n",
    "\n",
    "print(\"data_a:\")\n",
    "print(data_y[:3,:])  \n",
    "print('\\n')\n",
    "print(data_y[-3:,:]) \n",
    "\n",
    "print(\"numpy size: = \", data_y.shape)\n",
    "print(\"type: \", data_y.dtype) "
   ]
  },
  {
   "cell_type": "code",
   "execution_count": 57,
   "metadata": {},
   "outputs": [
    {
     "name": "stdout",
     "output_type": "stream",
     "text": [
      "Size of a three-dimensional tensor:  29950 50 16\n"
     ]
    }
   ],
   "source": [
    "n_small = 30000\n",
    "N = 50\n",
    "\n",
    "L = n_small - N\n",
    "t = data_a.shape[1]\n",
    "print('Size of a three-dimensional tensor: ', L, N, t)"
   ]
  },
  {
   "cell_type": "code",
   "execution_count": 58,
   "metadata": {},
   "outputs": [],
   "source": [
    "# create imputs zeros 3D tensors with 'float32'\n",
    "\n",
    "data_b = np.zeros( (L, N, t), dtype= 'float32' ) "
   ]
  },
  {
   "cell_type": "code",
   "execution_count": 59,
   "metadata": {},
   "outputs": [],
   "source": [
    "# create a two-dimensional zeros vector of answers - normalised the High_Bid and Low_Ask prices DURING next 5 minutes\n",
    "\n",
    "Y = np.zeros((L, 2), dtype= 'float32') # We will predict two prices - normalised High_Bid and normalised Low_Ask"
   ]
  },
  {
   "cell_type": "code",
   "execution_count": 60,
   "metadata": {},
   "outputs": [
    {
     "name": "stdout",
     "output_type": "stream",
     "text": [
      "L = n_small - N - 5 =  29945 29950\n"
     ]
    },
    {
     "name": "stderr",
     "output_type": "stream",
     "text": [
      "100%|██████████| 29950/29950 [00:00<00:00, 102281.27it/s]"
     ]
    },
    {
     "name": "stdout",
     "output_type": "stream",
     "text": [
      "29949\n",
      "data_b: \n",
      " [[[24.036 24.059 24.017 ...  0.066  0.066  0.066]\n",
      "  [24.064 24.13  24.064 ...  0.058  0.03   0.049]\n",
      "  [24.094 24.098 23.972 ...  0.05   0.05   0.05 ]\n",
      "  ...\n",
      "  [24.218 24.251 24.212 ...  0.03   0.03   0.03 ]\n",
      "  [24.234 24.255 24.22  ...  0.026  0.03   0.03 ]\n",
      "  [24.244 24.35  24.237 ...  0.03   0.03   0.03 ]]\n",
      "\n",
      " [[24.064 24.13  24.064 ...  0.058  0.03   0.049]\n",
      "  [24.094 24.098 23.972 ...  0.05   0.05   0.05 ]\n",
      "  [23.977 23.98  23.938 ...  0.048  0.048  0.048]\n",
      "  ...\n",
      "  [24.234 24.255 24.22  ...  0.026  0.03   0.03 ]\n",
      "  [24.244 24.35  24.237 ...  0.03   0.03   0.03 ]\n",
      "  [24.345 24.35  24.309 ...  0.03   0.03   0.03 ]]\n",
      "\n",
      " [[24.094 24.098 23.972 ...  0.05   0.05   0.05 ]\n",
      "  [23.977 23.98  23.938 ...  0.048  0.048  0.048]\n",
      "  [23.978 24.024 23.976 ...  0.049  0.047  0.05 ]\n",
      "  ...\n",
      "  [24.244 24.35  24.237 ...  0.03   0.03   0.03 ]\n",
      "  [24.345 24.35  24.309 ...  0.03   0.03   0.03 ]\n",
      "  [24.317 24.35  24.282 ...  0.03   0.03   0.03 ]]\n",
      "\n",
      " ...\n",
      "\n",
      " [[23.587 23.603 23.573 ...  0.03   0.03   0.03 ]\n",
      "  [23.594 23.609 23.57  ...  0.03   0.03   0.03 ]\n",
      "  [23.578 23.587 23.551 ...  0.03   0.03   0.03 ]\n",
      "  ...\n",
      "  [23.554 23.574 23.552 ...  0.03   0.03   0.03 ]\n",
      "  [23.573 23.574 23.561 ...  0.03   0.03   0.03 ]\n",
      "  [23.567 23.569 23.554 ...  0.03   0.03   0.03 ]]\n",
      "\n",
      " [[23.594 23.609 23.57  ...  0.03   0.03   0.03 ]\n",
      "  [23.578 23.587 23.551 ...  0.03   0.03   0.03 ]\n",
      "  [23.551 23.566 23.54  ...  0.03   0.03   0.03 ]\n",
      "  ...\n",
      "  [23.573 23.574 23.561 ...  0.03   0.03   0.03 ]\n",
      "  [23.567 23.569 23.554 ...  0.03   0.03   0.03 ]\n",
      "  [23.564 23.568 23.553 ...  0.03   0.03   0.03 ]]\n",
      "\n",
      " [[23.578 23.587 23.551 ...  0.03   0.03   0.03 ]\n",
      "  [23.551 23.566 23.54  ...  0.03   0.03   0.03 ]\n",
      "  [23.555 23.562 23.545 ...  0.03   0.03   0.03 ]\n",
      "  ...\n",
      "  [23.567 23.569 23.554 ...  0.03   0.03   0.03 ]\n",
      "  [23.564 23.568 23.553 ...  0.03   0.03   0.03 ]\n",
      "  [23.564 23.566 23.554 ...  0.03   0.03   0.03 ]]]\n",
      "Numpy size:         (29950, 50, 16) \n",
      "\n",
      "[[24.455 24.312]\n",
      " [24.455 24.312]\n",
      " [24.455 24.342]\n",
      " [24.455 24.332]\n",
      " [24.385 24.329]]\n",
      "[[23.588 23.582]\n",
      " [23.587 23.582]\n",
      " [23.581 23.582]\n",
      " [23.58  23.582]\n",
      " [23.574 23.582]\n",
      " [23.574 23.583]\n",
      " [23.569 23.583]\n",
      " [23.569 23.583]\n",
      " [23.569 23.584]\n",
      " [23.569 23.584]]\n",
      "Numpy size:          (29950, 2)\n"
     ]
    },
    {
     "name": "stderr",
     "output_type": "stream",
     "text": [
      "\n"
     ]
    }
   ],
   "source": [
    "# fill the imputs 3D tansor (data_b) \n",
    "# and the array of answers Y \n",
    "\n",
    "from tqdm import tqdm \n",
    "#print('L = n - N = ', n-N, L)\n",
    "print('L = n_small - N - 5 = ', n_small-N-5, L)\n",
    "#for k in tqdm(range(L-1)):\n",
    "for k in tqdm(range(L)):\n",
    "    data_b[k, :, :] = data_a[k:k+N, :]   \n",
    "                                          \n",
    "    Y[k,0] = data_y[k+N-1,0]   # normalised Y_High_Bid - max 5 minutes future price\n",
    "    Y[k,1] = data_y[k+N-1,1]   # normalised Y_Low_Ask -  min 5 minutes future price\n",
    "\n",
    "print(k) # index value (for control)\n",
    "    \n",
    "print('data_b:', '\\n', data_b)\n",
    "print(\"Numpy size:        \", data_b.shape, '\\n')\n",
    "\n",
    "print( Y[:5,:])\n",
    "print( Y[-10:,:])\n",
    "print(      \"Numpy size:         \", Y.shape)"
   ]
  },
  {
   "cell_type": "code",
   "execution_count": 61,
   "metadata": {},
   "outputs": [
    {
     "name": "stdout",
     "output_type": "stream",
     "text": [
      "random int =  17362\n",
      "data_b: \t\t Y:\n",
      "Y_High_Bid  \t\t Y_High_Bid\n",
      "23.902 \t\t 23.914\n",
      "23.914 \t\t 23.914\n",
      "23.914 \t\t 23.913\n",
      "23.909 \t\t 23.913\n",
      "23.913 \t\t 23.913\n",
      "23.913 \t\t 23.903\n",
      "23.897 \t\t 23.903\n",
      "23.889 \t\t 23.903\n",
      "23.898 \t\t 23.903\n",
      "23.898 \t\t 23.903\n",
      "23.903 \t\t 23.897\n",
      "23.897 \t\t 23.897\n",
      "23.892 \t\t 23.897\n",
      "23.897 \t\t 23.891\n",
      "23.891 \t\t 23.877\n"
     ]
    }
   ],
   "source": [
    "# Control of the correctness of filling the array Y \n",
    "# (should show MAX of the normalised prices High_Bid and Low_Ask - during 5 next minutes(step) ahead)\n",
    "\n",
    "\n",
    "import random\n",
    "\n",
    "pp = random.randint(50, L) # (any number before 29950) - just to look at the middle of data_b\n",
    "print('random int = ', pp)\n",
    "\n",
    "print('data_b:', '\\t\\t','Y:')\n",
    "print('Y_High_Bid ','\\t\\t','Y_High_Bid')\n",
    "\n",
    "for i in range(15):\n",
    "    print(data_b[pp+i,N-1,1], '\\t\\t', Y[pp+i,0])"
   ]
  },
  {
   "cell_type": "code",
   "execution_count": 62,
   "metadata": {},
   "outputs": [],
   "source": [
    "data = []\n",
    "data_ax = []\n",
    "data_ay = []\n",
    "data_a = []\n",
    "data_y = []"
   ]
  },
  {
   "cell_type": "code",
   "execution_count": 63,
   "metadata": {},
   "outputs": [],
   "source": [
    "from sklearn.model_selection import train_test_split"
   ]
  },
  {
   "cell_type": "code",
   "execution_count": 64,
   "metadata": {},
   "outputs": [],
   "source": [
    "X_train, X_test, y_train, y_test = train_test_split(data_b, Y, test_size=0.1, shuffle = False, stratify = None, random_state=101)"
   ]
  },
  {
   "cell_type": "code",
   "execution_count": 65,
   "metadata": {},
   "outputs": [
    {
     "name": "stdout",
     "output_type": "stream",
     "text": [
      "(26955, 50, 16)\n",
      "(26955, 2)\n",
      "(2995, 50, 16)\n",
      "(2995, 2)\n"
     ]
    }
   ],
   "source": [
    "print(X_train.shape)\n",
    "print(y_train.shape)\n",
    "print(X_test.shape)\n",
    "print(y_test.shape)"
   ]
  },
  {
   "cell_type": "code",
   "execution_count": 66,
   "metadata": {},
   "outputs": [
    {
     "name": "stderr",
     "output_type": "stream",
     "text": [
      "C:\\Users\\olulo\\anaconda3\\Lib\\site-packages\\keras\\src\\layers\\rnn\\rnn.py:204: UserWarning: Do not pass an `input_shape`/`input_dim` argument to a layer. When using Sequential models, prefer using an `Input(shape)` object as the first layer in the model instead.\n",
      "  super().__init__(**kwargs)\n"
     ]
    }
   ],
   "source": [
    "model = keras.Sequential([\n",
    "    keras.layers.LSTM(100, activation='relu', input_shape=(50, 16)),\n",
    "\n",
    "    keras.layers.Dense(2)\n",
    "])"
   ]
  },
  {
   "cell_type": "code",
   "execution_count": 67,
   "metadata": {},
   "outputs": [
    {
     "data": {
      "text/html": [
       "<pre style=\"white-space:pre;overflow-x:auto;line-height:normal;font-family:Menlo,'DejaVu Sans Mono',consolas,'Courier New',monospace\"><span style=\"font-weight: bold\">Model: \"sequential\"</span>\n",
       "</pre>\n"
      ],
      "text/plain": [
       "\u001b[1mModel: \"sequential\"\u001b[0m\n"
      ]
     },
     "metadata": {},
     "output_type": "display_data"
    },
    {
     "data": {
      "text/html": [
       "<pre style=\"white-space:pre;overflow-x:auto;line-height:normal;font-family:Menlo,'DejaVu Sans Mono',consolas,'Courier New',monospace\">┏━━━━━━━━━━━━━━━━━━━━━━━━━━━━━━━━━┳━━━━━━━━━━━━━━━━━━━━━━━━┳━━━━━━━━━━━━━━━┓\n",
       "┃<span style=\"font-weight: bold\"> Layer (type)                    </span>┃<span style=\"font-weight: bold\"> Output Shape           </span>┃<span style=\"font-weight: bold\">       Param # </span>┃\n",
       "┡━━━━━━━━━━━━━━━━━━━━━━━━━━━━━━━━━╇━━━━━━━━━━━━━━━━━━━━━━━━╇━━━━━━━━━━━━━━━┩\n",
       "│ lstm (<span style=\"color: #0087ff; text-decoration-color: #0087ff\">LSTM</span>)                     │ (<span style=\"color: #00d7ff; text-decoration-color: #00d7ff\">None</span>, <span style=\"color: #00af00; text-decoration-color: #00af00\">100</span>)            │        <span style=\"color: #00af00; text-decoration-color: #00af00\">46,800</span> │\n",
       "├─────────────────────────────────┼────────────────────────┼───────────────┤\n",
       "│ dense (<span style=\"color: #0087ff; text-decoration-color: #0087ff\">Dense</span>)                   │ (<span style=\"color: #00d7ff; text-decoration-color: #00d7ff\">None</span>, <span style=\"color: #00af00; text-decoration-color: #00af00\">2</span>)              │           <span style=\"color: #00af00; text-decoration-color: #00af00\">202</span> │\n",
       "└─────────────────────────────────┴────────────────────────┴───────────────┘\n",
       "</pre>\n"
      ],
      "text/plain": [
       "┏━━━━━━━━━━━━━━━━━━━━━━━━━━━━━━━━━┳━━━━━━━━━━━━━━━━━━━━━━━━┳━━━━━━━━━━━━━━━┓\n",
       "┃\u001b[1m \u001b[0m\u001b[1mLayer (type)                   \u001b[0m\u001b[1m \u001b[0m┃\u001b[1m \u001b[0m\u001b[1mOutput Shape          \u001b[0m\u001b[1m \u001b[0m┃\u001b[1m \u001b[0m\u001b[1m      Param #\u001b[0m\u001b[1m \u001b[0m┃\n",
       "┡━━━━━━━━━━━━━━━━━━━━━━━━━━━━━━━━━╇━━━━━━━━━━━━━━━━━━━━━━━━╇━━━━━━━━━━━━━━━┩\n",
       "│ lstm (\u001b[38;5;33mLSTM\u001b[0m)                     │ (\u001b[38;5;45mNone\u001b[0m, \u001b[38;5;34m100\u001b[0m)            │        \u001b[38;5;34m46,800\u001b[0m │\n",
       "├─────────────────────────────────┼────────────────────────┼───────────────┤\n",
       "│ dense (\u001b[38;5;33mDense\u001b[0m)                   │ (\u001b[38;5;45mNone\u001b[0m, \u001b[38;5;34m2\u001b[0m)              │           \u001b[38;5;34m202\u001b[0m │\n",
       "└─────────────────────────────────┴────────────────────────┴───────────────┘\n"
      ]
     },
     "metadata": {},
     "output_type": "display_data"
    },
    {
     "data": {
      "text/html": [
       "<pre style=\"white-space:pre;overflow-x:auto;line-height:normal;font-family:Menlo,'DejaVu Sans Mono',consolas,'Courier New',monospace\"><span style=\"font-weight: bold\"> Total params: </span><span style=\"color: #00af00; text-decoration-color: #00af00\">47,002</span> (183.60 KB)\n",
       "</pre>\n"
      ],
      "text/plain": [
       "\u001b[1m Total params: \u001b[0m\u001b[38;5;34m47,002\u001b[0m (183.60 KB)\n"
      ]
     },
     "metadata": {},
     "output_type": "display_data"
    },
    {
     "data": {
      "text/html": [
       "<pre style=\"white-space:pre;overflow-x:auto;line-height:normal;font-family:Menlo,'DejaVu Sans Mono',consolas,'Courier New',monospace\"><span style=\"font-weight: bold\"> Trainable params: </span><span style=\"color: #00af00; text-decoration-color: #00af00\">47,002</span> (183.60 KB)\n",
       "</pre>\n"
      ],
      "text/plain": [
       "\u001b[1m Trainable params: \u001b[0m\u001b[38;5;34m47,002\u001b[0m (183.60 KB)\n"
      ]
     },
     "metadata": {},
     "output_type": "display_data"
    },
    {
     "data": {
      "text/html": [
       "<pre style=\"white-space:pre;overflow-x:auto;line-height:normal;font-family:Menlo,'DejaVu Sans Mono',consolas,'Courier New',monospace\"><span style=\"font-weight: bold\"> Non-trainable params: </span><span style=\"color: #00af00; text-decoration-color: #00af00\">0</span> (0.00 B)\n",
       "</pre>\n"
      ],
      "text/plain": [
       "\u001b[1m Non-trainable params: \u001b[0m\u001b[38;5;34m0\u001b[0m (0.00 B)\n"
      ]
     },
     "metadata": {},
     "output_type": "display_data"
    },
    {
     "name": "stdout",
     "output_type": "stream",
     "text": [
      "None\n"
     ]
    }
   ],
   "source": [
    "print(model.summary())"
   ]
  },
  {
   "cell_type": "code",
   "execution_count": 68,
   "metadata": {},
   "outputs": [],
   "source": [
    "model.compile(optimizer=\"adam\", loss=\"mse\", metrics=[\"mae\"])"
   ]
  },
  {
   "cell_type": "code",
   "execution_count": 69,
   "metadata": {},
   "outputs": [],
   "source": [
    "# Early Stopping parameters\n",
    "\n",
    "es = EarlyStopping(monitor='val_loss', mode='min', patience=5, verbose=1)\n",
    "mc = ModelCheckpoint('best_model_LSTM.keras', monitor='val_loss', mode='min', verbose=1, save_best_only=True)"
   ]
  },
  {
   "cell_type": "code",
   "execution_count": 70,
   "metadata": {},
   "outputs": [
    {
     "name": "stdout",
     "output_type": "stream",
     "text": [
      "Epoch 1/20\n",
      "\u001b[1m1213/1213\u001b[0m \u001b[32m━━━━━━━━━━━━━━━━━━━━\u001b[0m\u001b[37m\u001b[0m \u001b[1m0s\u001b[0m 29ms/step - loss: 763894.0625 - mae: 442.9614\n",
      "Epoch 1: val_loss improved from inf to 76985.59375, saving model to best_model_LSTM.keras\n",
      "\u001b[1m1213/1213\u001b[0m \u001b[32m━━━━━━━━━━━━━━━━━━━━\u001b[0m\u001b[37m\u001b[0m \u001b[1m46s\u001b[0m 33ms/step - loss: 763905.8125 - mae: 442.9629 - val_loss: 76985.5938 - val_mae: 144.1917\n",
      "Epoch 2/20\n",
      "\u001b[1m1213/1213\u001b[0m \u001b[32m━━━━━━━━━━━━━━━━━━━━\u001b[0m\u001b[37m\u001b[0m \u001b[1m0s\u001b[0m 29ms/step - loss: 360735.7812 - mae: 232.6826\n",
      "Epoch 2: val_loss improved from 76985.59375 to 37477.60156, saving model to best_model_LSTM.keras\n",
      "\u001b[1m1213/1213\u001b[0m \u001b[32m━━━━━━━━━━━━━━━━━━━━\u001b[0m\u001b[37m\u001b[0m \u001b[1m37s\u001b[0m 30ms/step - loss: 360915.4375 - mae: 232.6807 - val_loss: 37477.6016 - val_mae: 127.5279\n",
      "Epoch 3/20\n",
      "\u001b[1m1213/1213\u001b[0m \u001b[32m━━━━━━━━━━━━━━━━━━━━\u001b[0m\u001b[37m\u001b[0m \u001b[1m0s\u001b[0m 29ms/step - loss: 387041.0312 - mae: 275.4395\n",
      "Epoch 3: val_loss improved from 37477.60156 to 20061.05469, saving model to best_model_LSTM.keras\n",
      "\u001b[1m1213/1213\u001b[0m \u001b[32m━━━━━━━━━━━━━━━━━━━━\u001b[0m\u001b[37m\u001b[0m \u001b[1m37s\u001b[0m 31ms/step - loss: 386905.8438 - mae: 275.3765 - val_loss: 20061.0547 - val_mae: 74.6452\n",
      "Epoch 4/20\n",
      "\u001b[1m1213/1213\u001b[0m \u001b[32m━━━━━━━━━━━━━━━━━━━━\u001b[0m\u001b[37m\u001b[0m \u001b[1m0s\u001b[0m 29ms/step - loss: 1406833.3750 - mae: 353.6002\n",
      "Epoch 4: val_loss improved from 20061.05469 to 6415.19287, saving model to best_model_LSTM.keras\n",
      "\u001b[1m1213/1213\u001b[0m \u001b[32m━━━━━━━━━━━━━━━━━━━━\u001b[0m\u001b[37m\u001b[0m \u001b[1m37s\u001b[0m 31ms/step - loss: 1406245.0000 - mae: 353.4927 - val_loss: 6415.1929 - val_mae: 54.8571\n",
      "Epoch 5/20\n",
      "\u001b[1m1213/1213\u001b[0m \u001b[32m━━━━━━━━━━━━━━━━━━━━\u001b[0m\u001b[37m\u001b[0m \u001b[1m0s\u001b[0m 29ms/step - loss: 9128.7510 - mae: 53.2691\n",
      "Epoch 5: val_loss did not improve from 6415.19287\n",
      "\u001b[1m1213/1213\u001b[0m \u001b[32m━━━━━━━━━━━━━━━━━━━━\u001b[0m\u001b[37m\u001b[0m \u001b[1m37s\u001b[0m 30ms/step - loss: 9131.9971 - mae: 53.2775 - val_loss: 12919.5391 - val_mae: 52.6348\n",
      "Epoch 6/20\n",
      "\u001b[1m1213/1213\u001b[0m \u001b[32m━━━━━━━━━━━━━━━━━━━━\u001b[0m\u001b[37m\u001b[0m \u001b[1m0s\u001b[0m 30ms/step - loss: 6853.1094 - mae: 45.5768\n",
      "Epoch 6: val_loss did not improve from 6415.19287\n",
      "\u001b[1m1213/1213\u001b[0m \u001b[32m━━━━━━━━━━━━━━━━━━━━\u001b[0m\u001b[37m\u001b[0m \u001b[1m38s\u001b[0m 31ms/step - loss: 6853.1196 - mae: 45.5745 - val_loss: 10023.3193 - val_mae: 51.5073\n",
      "Epoch 7/20\n",
      "\u001b[1m1213/1213\u001b[0m \u001b[32m━━━━━━━━━━━━━━━━━━━━\u001b[0m\u001b[37m\u001b[0m \u001b[1m0s\u001b[0m 29ms/step - loss: 4512.5327 - mae: 29.6773\n",
      "Epoch 7: val_loss improved from 6415.19287 to 1382.83667, saving model to best_model_LSTM.keras\n",
      "\u001b[1m1213/1213\u001b[0m \u001b[32m━━━━━━━━━━━━━━━━━━━━\u001b[0m\u001b[37m\u001b[0m \u001b[1m37s\u001b[0m 30ms/step - loss: 4510.7476 - mae: 29.6717 - val_loss: 1382.8367 - val_mae: 25.9153\n",
      "Epoch 8/20\n",
      "\u001b[1m1213/1213\u001b[0m \u001b[32m━━━━━━━━━━━━━━━━━━━━\u001b[0m\u001b[37m\u001b[0m \u001b[1m0s\u001b[0m 29ms/step - loss: 708.2341 - mae: 18.7927\n",
      "Epoch 8: val_loss improved from 1382.83667 to 796.74677, saving model to best_model_LSTM.keras\n",
      "\u001b[1m1213/1213\u001b[0m \u001b[32m━━━━━━━━━━━━━━━━━━━━\u001b[0m\u001b[37m\u001b[0m \u001b[1m37s\u001b[0m 30ms/step - loss: 708.2601 - mae: 18.7927 - val_loss: 796.7468 - val_mae: 22.5979\n",
      "Epoch 9/20\n",
      "\u001b[1m1212/1213\u001b[0m \u001b[32m━━━━━━━━━━━━━━━━━━━\u001b[0m\u001b[37m━\u001b[0m \u001b[1m0s\u001b[0m 29ms/step - loss: 8017127.5000 - mae: 520.5514\n",
      "Epoch 9: val_loss did not improve from 796.74677\n",
      "\u001b[1m1213/1213\u001b[0m \u001b[32m━━━━━━━━━━━━━━━━━━━━\u001b[0m\u001b[37m\u001b[0m \u001b[1m37s\u001b[0m 30ms/step - loss: 8021297.0000 - mae: 520.9608 - val_loss: 155332.9062 - val_mae: 184.3097\n",
      "Epoch 10/20\n",
      "\u001b[1m1213/1213\u001b[0m \u001b[32m━━━━━━━━━━━━━━━━━━━━\u001b[0m\u001b[37m\u001b[0m \u001b[1m0s\u001b[0m 29ms/step - loss: 154254.0469 - mae: 197.4481\n",
      "Epoch 10: val_loss did not improve from 796.74677\n",
      "\u001b[1m1213/1213\u001b[0m \u001b[32m━━━━━━━━━━━━━━━━━━━━\u001b[0m\u001b[37m\u001b[0m \u001b[1m37s\u001b[0m 30ms/step - loss: 154251.1250 - mae: 197.4469 - val_loss: 121285.0078 - val_mae: 197.3911\n",
      "Epoch 11/20\n",
      "\u001b[1m1213/1213\u001b[0m \u001b[32m━━━━━━━━━━━━━━━━━━━━\u001b[0m\u001b[37m\u001b[0m \u001b[1m0s\u001b[0m 29ms/step - loss: 118827.0312 - mae: 179.7646\n",
      "Epoch 11: val_loss did not improve from 796.74677\n",
      "\u001b[1m1213/1213\u001b[0m \u001b[32m━━━━━━━━━━━━━━━━━━━━\u001b[0m\u001b[37m\u001b[0m \u001b[1m37s\u001b[0m 31ms/step - loss: 118828.9141 - mae: 179.7831 - val_loss: 27005.8066 - val_mae: 126.6295\n",
      "Epoch 12/20\n",
      "\u001b[1m1213/1213\u001b[0m \u001b[32m━━━━━━━━━━━━━━━━━━━━\u001b[0m\u001b[37m\u001b[0m \u001b[1m0s\u001b[0m 29ms/step - loss: 43969.3984 - mae: 147.7307\n",
      "Epoch 12: val_loss did not improve from 796.74677\n",
      "\u001b[1m1213/1213\u001b[0m \u001b[32m━━━━━━━━━━━━━━━━━━━━\u001b[0m\u001b[37m\u001b[0m \u001b[1m37s\u001b[0m 31ms/step - loss: 43964.3984 - mae: 147.7196 - val_loss: 10605.2490 - val_mae: 72.3160\n",
      "Epoch 13/20\n",
      "\u001b[1m1213/1213\u001b[0m \u001b[32m━━━━━━━━━━━━━━━━━━━━\u001b[0m\u001b[37m\u001b[0m \u001b[1m0s\u001b[0m 29ms/step - loss: 69279.4453 - mae: 154.6181\n",
      "Epoch 13: val_loss did not improve from 796.74677\n",
      "\u001b[1m1213/1213\u001b[0m \u001b[32m━━━━━━━━━━━━━━━━━━━━\u001b[0m\u001b[37m\u001b[0m \u001b[1m37s\u001b[0m 31ms/step - loss: 69320.6016 - mae: 154.6453 - val_loss: 9450.6221 - val_mae: 58.8791\n",
      "Epoch 13: early stopping\n"
     ]
    }
   ],
   "source": [
    "history = model.fit(X_train, y_train, batch_size=20, epochs=20, validation_split=0.1, shuffle=True, verbose=1, callbacks=[es, mc])"
   ]
  },
  {
   "cell_type": "code",
   "execution_count": 71,
   "metadata": {},
   "outputs": [],
   "source": [
    "LSTM_saved_best_model = keras.models.load_model('best_model_LSTM.keras')"
   ]
  },
  {
   "cell_type": "code",
   "execution_count": 72,
   "metadata": {},
   "outputs": [
    {
     "name": "stdout",
     "output_type": "stream",
     "text": [
      "\u001b[1m94/94\u001b[0m \u001b[32m━━━━━━━━━━━━━━━━━━━━\u001b[0m\u001b[37m\u001b[0m \u001b[1m3s\u001b[0m 13ms/step - loss: 649.9487 - mae: 21.5167\n"
     ]
    }
   ],
   "source": [
    "# Evaluate the quality of network training on test data, which the network has NOT seen.\n",
    "\n",
    "scores = LSTM_saved_best_model.evaluate(X_test, y_test, verbose=1)"
   ]
  },
  {
   "cell_type": "code",
   "execution_count": 73,
   "metadata": {},
   "outputs": [
    {
     "data": {
      "text/plain": [
       "[653.2314453125, 21.570571899414062]"
      ]
     },
     "execution_count": 73,
     "metadata": {},
     "output_type": "execute_result"
    }
   ],
   "source": [
    "scores"
   ]
  },
  {
   "cell_type": "code",
   "execution_count": 74,
   "metadata": {},
   "outputs": [
    {
     "name": "stdout",
     "output_type": "stream",
     "text": [
      "Mean squared error (mse): 653.231445312 \n"
     ]
    }
   ],
   "source": [
    "print(\"Mean squared error (mse): %.9f \" % (scores[0]))"
   ]
  },
  {
   "cell_type": "code",
   "execution_count": 75,
   "metadata": {},
   "outputs": [
    {
     "name": "stdout",
     "output_type": "stream",
     "text": [
      "Mean absolute error (mae): 21.570571899 \n"
     ]
    }
   ],
   "source": [
    "print(\"Mean absolute error (mae): %.9f \" % (scores[1]))"
   ]
  },
  {
   "cell_type": "code",
   "execution_count": 76,
   "metadata": {},
   "outputs": [
    {
     "data": {
      "text/plain": [
       "Text(0.5, 0, 'Mean Squared Error')"
      ]
     },
     "execution_count": 76,
     "metadata": {},
     "output_type": "execute_result"
    },
    {
     "data": {
      "image/png": "[encoded data removed]",
      "text/plain": [
       "<Figure size 640x480 with 1 Axes>"
      ]
     },
     "metadata": {},
     "output_type": "display_data"
    }
   ],
   "source": [
    "plt.plot(history.history['loss'])\n",
    "plt.xlabel('Mean Squared Error', size=14)"
   ]
  },
  {
   "cell_type": "code",
   "execution_count": 77,
   "metadata": {},
   "outputs": [
    {
     "data": {
      "image/png": "[encoded data removed]",
      "text/plain": [
       "<Figure size 1500x700 with 1 Axes>"
      ]
     },
     "metadata": {},
     "output_type": "display_data"
    }
   ],
   "source": [
    "history_dict = history.history\n",
    "\n",
    "training_mae_values = history_dict['mae']\n",
    "val_mae_values = history_dict['val_mae']\n",
    "\n",
    "epochs = range(1, len(training_mae_values) + 1)\n",
    "plt.figure(num=1, figsize=(15, 7))\n",
    "plt.plot(epochs, training_mae_values, 'b', label = 'Traing Mean Absolute Error(MAE)')\n",
    "plt.plot(epochs, val_mae_values, marker='o', markeredgecolor='green', markerfacecolor='yellow', label='Validation Mean Absolute Error(MAE)')\n",
    "plt.xlabel('Epochs', size=18)\n",
    "plt.ylabel('Mean Absolute Error', size=18)\n",
    "plt.legend()\n",
    "plt.show()"
   ]
  },
  {
   "cell_type": "code",
   "execution_count": null,
   "metadata": {},
   "outputs": [],
   "source": []
  }
 ],
 "metadata": {
  "kernelspec": {
   "display_name": "Python 3 (ipykernel)",
   "language": "python",
   "name": "python3"
  },
  "language_info": {
   "codemirror_mode": {
    "name": "ipython",
    "version": 3
   },
   "file_extension": ".py",
   "mimetype": "text/x-python",
   "name": "python",
   "nbconvert_exporter": "python",
   "pygments_lexer": "ipython3",
   "version": "3.12.4"
  }
 },
 "nbformat": 4,
 "nbformat_minor": 4
}
